{
 "cells": [
  {
   "cell_type": "code",
   "execution_count": 1,
   "id": "b5e5b274",
   "metadata": {
    "_cell_guid": "b1076dfc-b9ad-4769-8c92-a6c4dae69d19",
    "_uuid": "8f2839f25d086af736a60e9eeb907d3b93b6e0e5",
    "execution": {
     "iopub.execute_input": "2021-09-11T14:16:44.583104Z",
     "iopub.status.busy": "2021-09-11T14:16:44.581932Z",
     "iopub.status.idle": "2021-09-11T14:16:44.606410Z",
     "shell.execute_reply": "2021-09-11T14:16:44.607322Z",
     "shell.execute_reply.started": "2021-09-11T13:40:05.359435Z"
    },
    "papermill": {
     "duration": 0.065787,
     "end_time": "2021-09-11T14:16:44.607711",
     "exception": false,
     "start_time": "2021-09-11T14:16:44.541924",
     "status": "completed"
    },
    "tags": []
   },
   "outputs": [
    {
     "name": "stdout",
     "output_type": "stream",
     "text": [
      "/kaggle/input/creditcardfraud/creditcard.csv\n"
     ]
    }
   ],
   "source": [
    "# This Python 3 environment comes with many helpful analytics libraries installed\n",
    "# It is defined by the kaggle/python Docker image: https://github.com/kaggle/docker-python\n",
    "# For example, here's several helpful packages to load\n",
    "\n",
    "import numpy as np # linear algebra\n",
    "import pandas as pd # data processing, CSV file I/O (e.g. pd.read_csv)\n",
    "\n",
    "# Input data files are available in the read-only \"../input/\" directory\n",
    "# For example, running this (by clicking run or pressing Shift+Enter) will list all files under the input directory\n",
    "\n",
    "import os\n",
    "for dirname, _, filenames in os.walk('/kaggle/input'):\n",
    "    for filename in filenames:\n",
    "        print(os.path.join(dirname, filename))\n",
    "\n",
    "# You can write up to 20GB to the current directory (/kaggle/working/) that gets preserved as output when you create a version using \"Save & Run All\" \n",
    "# You can also write temporary files to /kaggle/temp/, but they won't be saved outside of the current session\n"
   ]
  },
  {
   "cell_type": "markdown",
   "id": "226d172f",
   "metadata": {
    "papermill": {
     "duration": 0.034964,
     "end_time": "2021-09-11T14:16:44.680968",
     "exception": false,
     "start_time": "2021-09-11T14:16:44.646004",
     "status": "completed"
    },
    "tags": []
   },
   "source": [
    "## Parse CSV and clean-up"
   ]
  },
  {
   "cell_type": "code",
   "execution_count": 2,
   "id": "a92fc0ed",
   "metadata": {
    "execution": {
     "iopub.execute_input": "2021-09-11T14:16:44.756456Z",
     "iopub.status.busy": "2021-09-11T14:16:44.755769Z",
     "iopub.status.idle": "2021-09-11T14:16:53.072555Z",
     "shell.execute_reply": "2021-09-11T14:16:53.071733Z",
     "shell.execute_reply.started": "2021-09-11T13:40:05.371362Z"
    },
    "papermill": {
     "duration": 8.355587,
     "end_time": "2021-09-11T14:16:53.072790",
     "exception": false,
     "start_time": "2021-09-11T14:16:44.717203",
     "status": "completed"
    },
    "tags": []
   },
   "outputs": [
    {
     "name": "stdout",
     "output_type": "stream",
     "text": [
      "HEADER: \"Time\",\"V1\",\"V2\",\"V3\",\"V4\",\"V5\",\"V6\",\"V7\",\"V8\",\"V9\",\"V10\",\"V11\",\"V12\",\"V13\",\"V14\",\"V15\",\"V16\",\"V17\",\"V18\",\"V19\",\"V20\",\"V21\",\"V22\",\"V23\",\"V24\",\"V25\",\"V26\",\"V27\",\"V28\",\"Amount\",\"Class\"\n",
      "EXAMPLE FEATURES: [0.0, -1.3598071336738, -0.0727811733098497, 2.53634673796914, 1.37815522427443, -0.338320769942518, 0.462387777762292, 0.239598554061257, 0.0986979012610507, 0.363786969611213, 0.0907941719789316, -0.551599533260813, -0.617800855762348, -0.991389847235408, -0.311169353699879, 1.46817697209427, -0.470400525259478, 0.207971241929242, 0.0257905801985591, 0.403992960255733, 0.251412098239705, -0.018306777944153, 0.277837575558899, -0.110473910188767, 0.0669280749146731, 0.128539358273528, -0.189114843888824, 0.133558376740387, -0.0210530534538215, 149.62]\n",
      "features.shape: (284807, 30)\n",
      "targets.shape: (284807, 1)\n"
     ]
    }
   ],
   "source": [
    "import csv\n",
    "import matplotlib.pyplot as plt\n",
    "\n",
    "fname = \"/kaggle/input/creditcardfraud/creditcard.csv\"\n",
    "\n",
    "all_features = []\n",
    "all_targets = []\n",
    "with open(fname) as f:\n",
    "    for i, line in enumerate(f):\n",
    "        if i == 0:\n",
    "            print(\"HEADER:\", line.strip())\n",
    "            continue  # Skip header\n",
    "        fields = line.strip().split(\",\")\n",
    "        all_features.append([float(v.replace('\"', \"\")) for v in fields[:-1]])\n",
    "        all_targets.append([int(fields[-1].replace('\"', \"\"))])\n",
    "        if i == 1:\n",
    "            print(\"EXAMPLE FEATURES:\", all_features[-1])\n",
    "\n",
    "features = np.array(all_features, dtype=\"float32\")\n",
    "targets = np.array(all_targets, dtype=\"uint8\")\n",
    "print(\"features.shape:\", features.shape)\n",
    "print(\"targets.shape:\", targets.shape)"
   ]
  },
  {
   "cell_type": "markdown",
   "id": "5a6fd377",
   "metadata": {
    "papermill": {
     "duration": 0.036247,
     "end_time": "2021-09-11T14:16:53.145530",
     "exception": false,
     "start_time": "2021-09-11T14:16:53.109283",
     "status": "completed"
    },
    "tags": []
   },
   "source": [
    "## Split to training and validation sets"
   ]
  },
  {
   "cell_type": "code",
   "execution_count": 3,
   "id": "4c78d5d9",
   "metadata": {
    "execution": {
     "iopub.execute_input": "2021-09-11T14:16:53.225767Z",
     "iopub.status.busy": "2021-09-11T14:16:53.224802Z",
     "iopub.status.idle": "2021-09-11T14:16:53.228695Z",
     "shell.execute_reply": "2021-09-11T14:16:53.229169Z",
     "shell.execute_reply.started": "2021-09-11T13:40:13.234360Z"
    },
    "papermill": {
     "duration": 0.047578,
     "end_time": "2021-09-11T14:16:53.229346",
     "exception": false,
     "start_time": "2021-09-11T14:16:53.181768",
     "status": "completed"
    },
    "tags": []
   },
   "outputs": [
    {
     "name": "stdout",
     "output_type": "stream",
     "text": [
      "# of training samples: 227846\n",
      "# of validation samples: 56961\n"
     ]
    }
   ],
   "source": [
    "num_val_samples = int(len(features) * 0.2) # 20% for validation\n",
    "X_train = features[:-num_val_samples]\n",
    "y_train = targets[:-num_val_samples]\n",
    "X_test = features[-num_val_samples:]\n",
    "y_test = targets[-num_val_samples:]\n",
    "\n",
    "print(\"# of training samples:\", len(X_train))\n",
    "print(\"# of validation samples:\", len(X_test))"
   ]
  },
  {
   "cell_type": "markdown",
   "id": "d01daeec",
   "metadata": {
    "papermill": {
     "duration": 0.037693,
     "end_time": "2021-09-11T14:16:53.303621",
     "exception": false,
     "start_time": "2021-09-11T14:16:53.265928",
     "status": "completed"
    },
    "tags": []
   },
   "source": [
    "## Check class-imbalance \n",
    "To be use as class weights in training"
   ]
  },
  {
   "cell_type": "code",
   "execution_count": 4,
   "id": "e82b0cf5",
   "metadata": {
    "execution": {
     "iopub.execute_input": "2021-09-11T14:16:53.386210Z",
     "iopub.status.busy": "2021-09-11T14:16:53.385469Z",
     "iopub.status.idle": "2021-09-11T14:16:53.397388Z",
     "shell.execute_reply": "2021-09-11T14:16:53.397911Z",
     "shell.execute_reply.started": "2021-09-11T13:40:13.244850Z"
    },
    "papermill": {
     "duration": 0.052439,
     "end_time": "2021-09-11T14:16:53.398109",
     "exception": false,
     "start_time": "2021-09-11T14:16:53.345670",
     "status": "completed"
    },
    "tags": []
   },
   "outputs": [
    {
     "name": "stdout",
     "output_type": "stream",
     "text": [
      "# of positive samples in training data: 417 (0.18% of total)\n"
     ]
    }
   ],
   "source": [
    "counts = np.bincount(y_train[:, 0])\n",
    "print(\n",
    "    \"# of positive samples in training data: {} ({:.2f}% of total)\".format(\n",
    "        counts[1], 100 * float(counts[1]) / len(y_train)\n",
    "    )\n",
    ")\n",
    "\n",
    "weight_for_0 = 1.0 / counts[0]\n",
    "weight_for_1 = 1.0 / counts[1]"
   ]
  },
  {
   "cell_type": "markdown",
   "id": "896c5b80",
   "metadata": {
    "papermill": {
     "duration": 0.036249,
     "end_time": "2021-09-11T14:16:53.471309",
     "exception": false,
     "start_time": "2021-09-11T14:16:53.435060",
     "status": "completed"
    },
    "tags": []
   },
   "source": [
    "## Standard Scaler preprocessing"
   ]
  },
  {
   "cell_type": "code",
   "execution_count": 5,
   "id": "3a8e7e9f",
   "metadata": {
    "execution": {
     "iopub.execute_input": "2021-09-11T14:16:53.550546Z",
     "iopub.status.busy": "2021-09-11T14:16:53.549536Z",
     "iopub.status.idle": "2021-09-11T14:16:53.601005Z",
     "shell.execute_reply": "2021-09-11T14:16:53.600365Z",
     "shell.execute_reply.started": "2021-09-11T13:40:13.255967Z"
    },
    "papermill": {
     "duration": 0.093486,
     "end_time": "2021-09-11T14:16:53.601171",
     "exception": false,
     "start_time": "2021-09-11T14:16:53.507685",
     "status": "completed"
    },
    "tags": []
   },
   "outputs": [],
   "source": [
    "mean = np.mean(X_train, axis=0)\n",
    "X_train -= mean\n",
    "X_test -= mean\n",
    "std = np.std(X_train, axis=0)\n",
    "X_train /= std\n",
    "X_test /= std"
   ]
  },
  {
   "cell_type": "markdown",
   "id": "68b92904",
   "metadata": {
    "papermill": {
     "duration": 0.036168,
     "end_time": "2021-09-11T14:16:53.674996",
     "exception": false,
     "start_time": "2021-09-11T14:16:53.638828",
     "status": "completed"
    },
    "tags": []
   },
   "source": [
    "# Logistic Regression"
   ]
  },
  {
   "cell_type": "code",
   "execution_count": 6,
   "id": "2da76e8f",
   "metadata": {
    "execution": {
     "iopub.execute_input": "2021-09-11T14:16:53.753116Z",
     "iopub.status.busy": "2021-09-11T14:16:53.752453Z",
     "iopub.status.idle": "2021-09-11T14:16:58.082189Z",
     "shell.execute_reply": "2021-09-11T14:16:58.083136Z",
     "shell.execute_reply.started": "2021-09-11T13:40:13.308678Z"
    },
    "papermill": {
     "duration": 4.371918,
     "end_time": "2021-09-11T14:16:58.083475",
     "exception": false,
     "start_time": "2021-09-11T14:16:53.711557",
     "status": "completed"
    },
    "tags": []
   },
   "outputs": [
    {
     "name": "stderr",
     "output_type": "stream",
     "text": [
      "/opt/conda/lib/python3.7/site-packages/sklearn/utils/validation.py:72: DataConversionWarning: A column-vector y was passed when a 1d array was expected. Please change the shape of y to (n_samples, ), for example using ravel().\n",
      "  return f(**kwargs)\n"
     ]
    },
    {
     "data": {
      "text/plain": [
       "LogisticRegression()"
      ]
     },
     "execution_count": 6,
     "metadata": {},
     "output_type": "execute_result"
    }
   ],
   "source": [
    "from sklearn.linear_model import LogisticRegression\n",
    "\n",
    "logreg = LogisticRegression()\n",
    "logreg.fit(X_train, y_train)"
   ]
  },
  {
   "cell_type": "code",
   "execution_count": 7,
   "id": "f5fe0064",
   "metadata": {
    "execution": {
     "iopub.execute_input": "2021-09-11T14:16:58.216349Z",
     "iopub.status.busy": "2021-09-11T14:16:58.215552Z",
     "iopub.status.idle": "2021-09-11T14:16:58.220684Z",
     "shell.execute_reply": "2021-09-11T14:16:58.220051Z",
     "shell.execute_reply.started": "2021-09-11T13:46:53.576916Z"
    },
    "papermill": {
     "duration": 0.067656,
     "end_time": "2021-09-11T14:16:58.220848",
     "exception": false,
     "start_time": "2021-09-11T14:16:58.153192",
     "status": "completed"
    },
    "tags": []
   },
   "outputs": [
    {
     "name": "stdout",
     "output_type": "stream",
     "text": [
      "Feature: 0, Score: -0.11805\n",
      "Feature: 1, Score: 0.12693\n",
      "Feature: 2, Score: 0.07433\n",
      "Feature: 3, Score: 0.05294\n",
      "Feature: 4, Score: 0.93693\n",
      "Feature: 5, Score: 0.13894\n",
      "Feature: 6, Score: -0.13283\n",
      "Feature: 7, Score: -0.12672\n",
      "Feature: 8, Score: -0.18478\n",
      "Feature: 9, Score: -0.31283\n",
      "Feature: 10, Score: -0.87192\n",
      "Feature: 11, Score: -0.06050\n",
      "Feature: 12, Score: 0.05762\n",
      "Feature: 13, Score: -0.27796\n",
      "Feature: 14, Score: -0.50946\n",
      "Feature: 15, Score: -0.04487\n",
      "Feature: 16, Score: -0.17416\n",
      "Feature: 17, Score: 0.01395\n",
      "Feature: 18, Score: 0.04946\n",
      "Feature: 19, Score: 0.04040\n",
      "Feature: 20, Score: -0.37768\n",
      "Feature: 21, Score: 0.28417\n",
      "Feature: 22, Score: 0.46586\n",
      "Feature: 23, Score: -0.08879\n",
      "Feature: 24, Score: 0.02068\n",
      "Feature: 25, Score: -0.00756\n",
      "Feature: 26, Score: 0.06802\n",
      "Feature: 27, Score: -0.32704\n",
      "Feature: 28, Score: -0.10202\n",
      "Feature: 29, Score: 0.26073\n"
     ]
    }
   ],
   "source": [
    "from matplotlib import pyplot\n",
    "\n",
    "importance = logreg.coef_.ravel()\n",
    "\n",
    "# summarize feature importance\n",
    "for i,v in enumerate(importance):\n",
    "\tprint('Feature: %0d, Score: %.5f' % (i,v))"
   ]
  },
  {
   "cell_type": "code",
   "execution_count": 8,
   "id": "b9e602a6",
   "metadata": {
    "execution": {
     "iopub.execute_input": "2021-09-11T14:16:58.300651Z",
     "iopub.status.busy": "2021-09-11T14:16:58.299687Z",
     "iopub.status.idle": "2021-09-11T14:16:58.553365Z",
     "shell.execute_reply": "2021-09-11T14:16:58.552793Z",
     "shell.execute_reply.started": "2021-09-11T13:47:16.031208Z"
    },
    "papermill": {
     "duration": 0.29437,
     "end_time": "2021-09-11T14:16:58.553514",
     "exception": false,
     "start_time": "2021-09-11T14:16:58.259144",
     "status": "completed"
    },
    "tags": []
   },
   "outputs": [
    {
     "data": {
      "image/png": "[encoded data removed]",
      "text/plain": [
       "<Figure size 432x288 with 1 Axes>"
      ]
     },
     "metadata": {
      "needs_background": "light"
     },
     "output_type": "display_data"
    }
   ],
   "source": [
    "# plot feature importance\n",
    "pyplot.bar([x for x in range(len(importance))], importance)\n",
    "pyplot.show()"
   ]
  },
  {
   "cell_type": "code",
   "execution_count": 9,
   "id": "db0ba04a",
   "metadata": {
    "execution": {
     "iopub.execute_input": "2021-09-11T14:16:58.637741Z",
     "iopub.status.busy": "2021-09-11T14:16:58.636980Z",
     "iopub.status.idle": "2021-09-11T14:16:58.661688Z",
     "shell.execute_reply": "2021-09-11T14:16:58.662900Z",
     "shell.execute_reply.started": "2021-09-11T13:40:15.973836Z"
    },
    "papermill": {
     "duration": 0.071629,
     "end_time": "2021-09-11T14:16:58.663247",
     "exception": false,
     "start_time": "2021-09-11T14:16:58.591618",
     "status": "completed"
    },
    "tags": []
   },
   "outputs": [
    {
     "name": "stdout",
     "output_type": "stream",
     "text": [
      "ROC AUC: 0.779964841964631\n"
     ]
    }
   ],
   "source": [
    "from sklearn.metrics import roc_curve, precision_recall_curve, auc\n",
    "\n",
    "#y_test_prob_lr = logreg.predict_proba(X_test)\n",
    "y_score_lr = logreg.predict(X_test).ravel()\n",
    "\n",
    "fpr_lr, tpr_lr, thresholds_lr = roc_curve(y_test, y_score_lr)\n",
    "roc_auc_lr = auc(fpr_lr, tpr_lr)\n",
    "print(\"ROC AUC:\", roc_auc_lr)"
   ]
  },
  {
   "cell_type": "code",
   "execution_count": 10,
   "id": "42701c91",
   "metadata": {
    "execution": {
     "iopub.execute_input": "2021-09-11T14:16:58.792696Z",
     "iopub.status.busy": "2021-09-11T14:16:58.792029Z",
     "iopub.status.idle": "2021-09-11T14:16:58.798709Z",
     "shell.execute_reply": "2021-09-11T14:16:58.799243Z",
     "shell.execute_reply.started": "2021-09-11T13:40:16.007007Z"
    },
    "papermill": {
     "duration": 0.066077,
     "end_time": "2021-09-11T14:16:58.799419",
     "exception": false,
     "start_time": "2021-09-11T14:16:58.733342",
     "status": "completed"
    },
    "tags": []
   },
   "outputs": [
    {
     "name": "stdout",
     "output_type": "stream",
     "text": [
      "PR AUC: 0.735494720644102\n"
     ]
    }
   ],
   "source": [
    "precision_lr, recall_lr, thresholds_lr_2 = precision_recall_curve(y_test, y_score_lr)\n",
    "pr_auc_lr = auc(precision_lr, recall_lr)\n",
    "print(\"PR AUC:\", pr_auc_lr)"
   ]
  },
  {
   "cell_type": "code",
   "execution_count": 11,
   "id": "b15d63dc",
   "metadata": {
    "execution": {
     "iopub.execute_input": "2021-09-11T14:16:58.882923Z",
     "iopub.status.busy": "2021-09-11T14:16:58.882213Z",
     "iopub.status.idle": "2021-09-11T14:16:59.128418Z",
     "shell.execute_reply": "2021-09-11T14:16:59.128976Z",
     "shell.execute_reply.started": "2021-09-11T13:40:16.025526Z"
    },
    "papermill": {
     "duration": 0.289935,
     "end_time": "2021-09-11T14:16:59.129197",
     "exception": false,
     "start_time": "2021-09-11T14:16:58.839262",
     "status": "completed"
    },
    "tags": []
   },
   "outputs": [
    {
     "data": {
      "image/png": "[encoded data removed]",
      "text/plain": [
       "<Figure size 432x288 with 1 Axes>"
      ]
     },
     "metadata": {
      "needs_background": "light"
     },
     "output_type": "display_data"
    }
   ],
   "source": [
    "from sklearn.metrics import plot_roc_curve, plot_precision_recall_curve\n",
    "fig = plot_roc_curve(logreg, X_test, y_test)  \n",
    "plt.show() "
   ]
  },
  {
   "cell_type": "code",
   "execution_count": 12,
   "id": "3679bce3",
   "metadata": {
    "execution": {
     "iopub.execute_input": "2021-09-11T14:16:59.212946Z",
     "iopub.status.busy": "2021-09-11T14:16:59.212245Z",
     "iopub.status.idle": "2021-09-11T14:16:59.478148Z",
     "shell.execute_reply": "2021-09-11T14:16:59.478685Z",
     "shell.execute_reply.started": "2021-09-11T13:40:16.276180Z"
    },
    "papermill": {
     "duration": 0.309392,
     "end_time": "2021-09-11T14:16:59.478888",
     "exception": false,
     "start_time": "2021-09-11T14:16:59.169496",
     "status": "completed"
    },
    "tags": []
   },
   "outputs": [
    {
     "data": {
      "image/png": "[encoded data removed]",
      "text/plain": [
       "<Figure size 432x288 with 1 Axes>"
      ]
     },
     "metadata": {
      "needs_background": "light"
     },
     "output_type": "display_data"
    }
   ],
   "source": [
    "plot_precision_recall_curve(logreg, X_test, y_test)  \n",
    "plt.show() "
   ]
  },
  {
   "cell_type": "markdown",
   "id": "2747ab78",
   "metadata": {
    "papermill": {
     "duration": 0.040718,
     "end_time": "2021-09-11T14:16:59.560875",
     "exception": false,
     "start_time": "2021-09-11T14:16:59.520157",
     "status": "completed"
    },
    "tags": []
   },
   "source": [
    "# Feed Forward NN"
   ]
  },
  {
   "cell_type": "code",
   "execution_count": 13,
   "id": "cad30f02",
   "metadata": {
    "execution": {
     "iopub.execute_input": "2021-09-11T14:16:59.646731Z",
     "iopub.status.busy": "2021-09-11T14:16:59.646070Z",
     "iopub.status.idle": "2021-09-11T14:17:05.639555Z",
     "shell.execute_reply": "2021-09-11T14:17:05.638885Z",
     "shell.execute_reply.started": "2021-09-11T13:40:16.537370Z"
    },
    "papermill": {
     "duration": 6.037701,
     "end_time": "2021-09-11T14:17:05.639705",
     "exception": false,
     "start_time": "2021-09-11T14:16:59.602004",
     "status": "completed"
    },
    "tags": []
   },
   "outputs": [
    {
     "name": "stderr",
     "output_type": "stream",
     "text": [
      "2021-09-11 14:17:00.336996: W tensorflow/stream_executor/platform/default/dso_loader.cc:60] Could not load dynamic library 'libcudart.so.11.0'; dlerror: libcudart.so.11.0: cannot open shared object file: No such file or directory; LD_LIBRARY_PATH: /opt/conda/lib\n",
      "2021-09-11 14:17:00.337131: I tensorflow/stream_executor/cuda/cudart_stub.cc:29] Ignore above cudart dlerror if you do not have a GPU set up on your machine.\n"
     ]
    },
    {
     "name": "stdout",
     "output_type": "stream",
     "text": [
      "Model: \"sequential\"\n",
      "_________________________________________________________________\n",
      "Layer (type)                 Output Shape              Param #   \n",
      "=================================================================\n",
      "dense (Dense)                (None, 256)               7936      \n",
      "_________________________________________________________________\n",
      "dense_1 (Dense)              (None, 256)               65792     \n",
      "_________________________________________________________________\n",
      "dropout (Dropout)            (None, 256)               0         \n",
      "_________________________________________________________________\n",
      "dense_2 (Dense)              (None, 256)               65792     \n",
      "_________________________________________________________________\n",
      "dropout_1 (Dropout)          (None, 256)               0         \n",
      "_________________________________________________________________\n",
      "dense_3 (Dense)              (None, 1)                 257       \n",
      "=================================================================\n",
      "Total params: 139,777\n",
      "Trainable params: 139,777\n",
      "Non-trainable params: 0\n",
      "_________________________________________________________________\n"
     ]
    },
    {
     "name": "stderr",
     "output_type": "stream",
     "text": [
      "2021-09-11 14:17:05.537990: I tensorflow/compiler/jit/xla_cpu_device.cc:41] Not creating XLA devices, tf_xla_enable_xla_devices not set\n",
      "2021-09-11 14:17:05.541143: W tensorflow/stream_executor/platform/default/dso_loader.cc:60] Could not load dynamic library 'libcuda.so.1'; dlerror: libcuda.so.1: cannot open shared object file: No such file or directory; LD_LIBRARY_PATH: /opt/conda/lib\n",
      "2021-09-11 14:17:05.541211: W tensorflow/stream_executor/cuda/cuda_driver.cc:326] failed call to cuInit: UNKNOWN ERROR (303)\n",
      "2021-09-11 14:17:05.541242: I tensorflow/stream_executor/cuda/cuda_diagnostics.cc:156] kernel driver does not appear to be running on this host (e51761442676): /proc/driver/nvidia/version does not exist\n",
      "2021-09-11 14:17:05.541593: I tensorflow/core/platform/cpu_feature_guard.cc:142] This TensorFlow binary is optimized with oneAPI Deep Neural Network Library (oneDNN) to use the following CPU instructions in performance-critical operations:  AVX2 FMA\n",
      "To enable them in other operations, rebuild TensorFlow with the appropriate compiler flags.\n",
      "2021-09-11 14:17:05.542028: I tensorflow/compiler/jit/xla_gpu_device.cc:99] Not creating XLA devices, tf_xla_enable_xla_devices not set\n"
     ]
    }
   ],
   "source": [
    "from tensorflow import keras\n",
    "\n",
    "nn_clf = keras.Sequential(\n",
    "    [\n",
    "        keras.layers.Dense(256, activation=\"relu\", input_shape=(X_train.shape[-1],)),\n",
    "        keras.layers.Dense(256, activation=\"relu\"),\n",
    "        keras.layers.Dropout(0.3),\n",
    "        keras.layers.Dense(256, activation=\"relu\"),\n",
    "        keras.layers.Dropout(0.3),\n",
    "        keras.layers.Dense(1, activation=\"sigmoid\"),\n",
    "    ]\n",
    ")\n",
    "nn_clf.summary()"
   ]
  },
  {
   "cell_type": "markdown",
   "id": "309c61fd",
   "metadata": {
    "papermill": {
     "duration": 0.041165,
     "end_time": "2021-09-11T14:17:05.722576",
     "exception": false,
     "start_time": "2021-09-11T14:17:05.681411",
     "status": "completed"
    },
    "tags": []
   },
   "source": [
    "## Train with class-weight as inverse of example-count in training set"
   ]
  },
  {
   "cell_type": "code",
   "execution_count": 14,
   "id": "8802f258",
   "metadata": {
    "execution": {
     "iopub.execute_input": "2021-09-11T14:17:05.823499Z",
     "iopub.status.busy": "2021-09-11T14:17:05.819357Z",
     "iopub.status.idle": "2021-09-11T14:17:16.471472Z",
     "shell.execute_reply": "2021-09-11T14:17:16.470396Z",
     "shell.execute_reply.started": "2021-09-11T13:40:16.586670Z"
    },
    "papermill": {
     "duration": 10.707367,
     "end_time": "2021-09-11T14:17:16.471659",
     "exception": false,
     "start_time": "2021-09-11T14:17:05.764292",
     "status": "completed"
    },
    "tags": []
   },
   "outputs": [
    {
     "name": "stderr",
     "output_type": "stream",
     "text": [
      "2021-09-11 14:17:05.972848: I tensorflow/compiler/mlir/mlir_graph_optimization_pass.cc:116] None of the MLIR optimization passes are enabled (registered 2)\n",
      "2021-09-11 14:17:05.988370: I tensorflow/core/platform/profile_utils/cpu_utils.cc:112] CPU Frequency: 2199995000 Hz\n"
     ]
    },
    {
     "name": "stdout",
     "output_type": "stream",
     "text": [
      "Epoch 1/2\n",
      "112/112 - 7s - loss: 2.3451e-06 - fn_nn: 44.0000 - fp_nn: 24690.0000 - tn_nn: 202739.0000 - tp_nn: 373.0000 - precision_nn: 0.0149 - recall_nn: 0.8945 - val_loss: 0.0833 - val_fn_nn: 11.0000 - val_fp_nn: 969.0000 - val_tn_nn: 55917.0000 - val_tp_nn: 64.0000 - val_precision_nn: 0.0620 - val_recall_nn: 0.8533\n",
      "Epoch 2/2\n",
      "112/112 - 4s - loss: 1.3639e-06 - fn_nn: 37.0000 - fp_nn: 8296.0000 - tn_nn: 219133.0000 - tp_nn: 380.0000 - precision_nn: 0.0438 - recall_nn: 0.9113 - val_loss: 0.0924 - val_fn_nn: 8.0000 - val_fp_nn: 1117.0000 - val_tn_nn: 55769.0000 - val_tp_nn: 67.0000 - val_precision_nn: 0.0566 - val_recall_nn: 0.8933\n"
     ]
    },
    {
     "data": {
      "text/plain": [
       "<tensorflow.python.keras.callbacks.History at 0x7f613c01f050>"
      ]
     },
     "execution_count": 14,
     "metadata": {},
     "output_type": "execute_result"
    }
   ],
   "source": [
    "metrics = [\n",
    "    keras.metrics.FalseNegatives(name=\"fn_nn\"),\n",
    "    keras.metrics.FalsePositives(name=\"fp_nn\"),\n",
    "    keras.metrics.TrueNegatives(name=\"tn_nn\"),\n",
    "    keras.metrics.TruePositives(name=\"tp_nn\"),\n",
    "    keras.metrics.Precision(name=\"precision_nn\"),\n",
    "    keras.metrics.Recall(name=\"recall_nn\"),\n",
    "]\n",
    "\n",
    "nn_clf.compile(\n",
    "    optimizer=keras.optimizers.Adam(1e-2), loss=\"binary_crossentropy\", metrics=metrics\n",
    ")\n",
    "\n",
    "callbacks = [keras.callbacks.ModelCheckpoint(\"fraud_model_at_epoch_{epoch}.h5\")]\n",
    "class_weight = {0: weight_for_0, 1: weight_for_1}\n",
    "\n",
    "nn_clf.fit(\n",
    "    X_train,\n",
    "    y_train,\n",
    "    batch_size=2048,\n",
    "    epochs=2,#change to 200\n",
    "    verbose=2,\n",
    "    callbacks=callbacks,\n",
    "    validation_data=(X_test, y_test),\n",
    "    class_weight=class_weight,\n",
    ")"
   ]
  },
  {
   "cell_type": "code",
   "execution_count": 15,
   "id": "e5f2e905",
   "metadata": {
    "execution": {
     "iopub.execute_input": "2021-09-11T14:17:16.564883Z",
     "iopub.status.busy": "2021-09-11T14:17:16.563899Z",
     "iopub.status.idle": "2021-09-11T14:17:16.592043Z",
     "shell.execute_reply": "2021-09-11T14:17:16.591159Z"
    },
    "papermill": {
     "duration": 0.076444,
     "end_time": "2021-09-11T14:17:16.592419",
     "exception": true,
     "start_time": "2021-09-11T14:17:16.515975",
     "status": "failed"
    },
    "tags": []
   },
   "outputs": [
    {
     "ename": "NameError",
     "evalue": "name 'shap' is not defined",
     "output_type": "error",
     "traceback": [
      "\u001b[0;31m---------------------------------------------------------------------------\u001b[0m",
      "\u001b[0;31mNameError\u001b[0m                                 Traceback (most recent call last)",
      "\u001b[0;32m/tmp/ipykernel_19/2409075608.py\u001b[0m in \u001b[0;36m<module>\u001b[0;34m\u001b[0m\n\u001b[1;32m      1\u001b[0m \u001b[0;31m# explain predictions of the model on four images\u001b[0m\u001b[0;34m\u001b[0m\u001b[0;34m\u001b[0m\u001b[0;34m\u001b[0m\u001b[0m\n\u001b[0;32m----> 2\u001b[0;31m \u001b[0mexplainer\u001b[0m \u001b[0;34m=\u001b[0m \u001b[0mshap\u001b[0m\u001b[0;34m.\u001b[0m\u001b[0mDeepExplainer\u001b[0m\u001b[0;34m(\u001b[0m\u001b[0mmodel\u001b[0m\u001b[0;34m,\u001b[0m \u001b[0mbackground\u001b[0m\u001b[0;34m)\u001b[0m\u001b[0;34m\u001b[0m\u001b[0;34m\u001b[0m\u001b[0m\n\u001b[0m\u001b[1;32m      3\u001b[0m \u001b[0;31m# ...or pass tensors directly\u001b[0m\u001b[0;34m\u001b[0m\u001b[0;34m\u001b[0m\u001b[0;34m\u001b[0m\u001b[0m\n\u001b[1;32m      4\u001b[0m \u001b[0;31m# e = shap.DeepExplainer((model.layers[0].input, model.layers[-1].output), background)\u001b[0m\u001b[0;34m\u001b[0m\u001b[0;34m\u001b[0m\u001b[0;34m\u001b[0m\u001b[0m\n\u001b[1;32m      5\u001b[0m \u001b[0mshap_values\u001b[0m \u001b[0;34m=\u001b[0m \u001b[0mexplainer\u001b[0m\u001b[0;34m.\u001b[0m\u001b[0mshap_values\u001b[0m\u001b[0;34m(\u001b[0m\u001b[0mX_test\u001b[0m\u001b[0;34m[\u001b[0m\u001b[0;36m1\u001b[0m\u001b[0;34m:\u001b[0m\u001b[0;36m5\u001b[0m\u001b[0;34m]\u001b[0m\u001b[0;34m)\u001b[0m\u001b[0;34m\u001b[0m\u001b[0;34m\u001b[0m\u001b[0m\n",
      "\u001b[0;31mNameError\u001b[0m: name 'shap' is not defined"
     ]
    }
   ],
   "source": [
    "# explain predictions of the model on four images\n",
    "explainer = shap.DeepExplainer(model, background)\n",
    "# ...or pass tensors directly\n",
    "# e = shap.DeepExplainer((model.layers[0].input, model.layers[-1].output), background)\n",
    "shap_values = explainer.shap_values(X_test[1:5])"
   ]
  },
  {
   "cell_type": "code",
   "execution_count": null,
   "id": "4224fba2",
   "metadata": {
    "execution": {
     "iopub.execute_input": "2021-09-11T14:13:45.205044Z",
     "iopub.status.busy": "2021-09-11T14:13:45.204681Z",
     "iopub.status.idle": "2021-09-11T14:13:45.364986Z",
     "shell.execute_reply": "2021-09-11T14:13:45.364135Z",
     "shell.execute_reply.started": "2021-09-11T14:13:45.205010Z"
    },
    "papermill": {
     "duration": null,
     "end_time": null,
     "exception": null,
     "start_time": null,
     "status": "pending"
    },
    "tags": []
   },
   "outputs": [],
   "source": [
    "import shap\n",
    "\n",
    "# load JS visualization\n",
    "shap.initjs()\n",
    "\n",
    "# explain the model's predictions using SHAP\n",
    "background = X_train[np.random.choice(X_train.shape[0], 100, replace=False)]\n",
    "explainer = shap.DeepExplainer(nn_clf, background)\n",
    "shap_values = explainer.shap_values(X_test[1:5])"
   ]
  },
  {
   "cell_type": "code",
   "execution_count": null,
   "id": "a91a025c",
   "metadata": {
    "execution": {
     "iopub.execute_input": "2021-09-11T14:13:56.552310Z",
     "iopub.status.busy": "2021-09-11T14:13:56.551999Z",
     "iopub.status.idle": "2021-09-11T14:13:56.559896Z",
     "shell.execute_reply": "2021-09-11T14:13:56.559085Z",
     "shell.execute_reply.started": "2021-09-11T14:13:56.552279Z"
    },
    "papermill": {
     "duration": null,
     "end_time": null,
     "exception": null,
     "start_time": null,
     "status": "pending"
    },
    "tags": []
   },
   "outputs": [],
   "source": [
    "shap_values"
   ]
  },
  {
   "cell_type": "code",
   "execution_count": null,
   "id": "6fd87fac",
   "metadata": {
    "execution": {
     "iopub.execute_input": "2021-09-11T14:15:57.960680Z",
     "iopub.status.busy": "2021-09-11T14:15:57.960373Z",
     "iopub.status.idle": "2021-09-11T14:15:58.387008Z",
     "shell.execute_reply": "2021-09-11T14:15:58.386129Z",
     "shell.execute_reply.started": "2021-09-11T14:15:57.960654Z"
    },
    "papermill": {
     "duration": null,
     "end_time": null,
     "exception": null,
     "start_time": null,
     "status": "pending"
    },
    "tags": []
   },
   "outputs": [],
   "source": [
    "shap.force_plot(explainer.expected_value[0], shap_values[0][0,:], X_test[0,:], link=\"logit\")\n",
    "shap.summary_plot(shap_values, X_train, plot_type=\"bar\")"
   ]
  },
  {
   "cell_type": "code",
   "execution_count": null,
   "id": "08229dda",
   "metadata": {
    "execution": {
     "iopub.execute_input": "2021-09-11T13:53:43.171484Z",
     "iopub.status.busy": "2021-09-11T13:53:43.170497Z",
     "iopub.status.idle": "2021-09-11T13:53:43.210581Z",
     "shell.execute_reply": "2021-09-11T13:53:43.208211Z",
     "shell.execute_reply.started": "2021-09-11T13:53:43.171432Z"
    },
    "papermill": {
     "duration": null,
     "end_time": null,
     "exception": null,
     "start_time": null,
     "status": "pending"
    },
    "tags": []
   },
   "outputs": [],
   "source": [
    "import eli5\n",
    "from eli5.sklearn import PermutationImportance\n",
    "\n",
    "#perm = PermutationImportance(nn_clf, random_state=1).fit(X_test, y_test)\n",
    "#eli5.show_weights(perm, feature_names = X.columns.tolist())"
   ]
  },
  {
   "cell_type": "code",
   "execution_count": null,
   "id": "7f53bb2c",
   "metadata": {
    "execution": {
     "iopub.execute_input": "2021-09-11T13:40:25.038351Z",
     "iopub.status.busy": "2021-09-11T13:40:25.038122Z",
     "iopub.status.idle": "2021-09-11T13:40:28.152568Z",
     "shell.execute_reply": "2021-09-11T13:40:28.151700Z",
     "shell.execute_reply.started": "2021-09-11T13:40:25.038326Z"
    },
    "papermill": {
     "duration": null,
     "end_time": null,
     "exception": null,
     "start_time": null,
     "status": "pending"
    },
    "tags": []
   },
   "outputs": [],
   "source": [
    "from sklearn.metrics import roc_curve, precision_recall_curve, auc\n",
    "\n",
    "#y_test_prob_nn = nn_clf.predict_proba(X_test)\n",
    "y_score_nn = nn_clf.predict(X_test).ravel()\n",
    "\n",
    "fpr_nn, tpr_nn, thresholds_nn = roc_curve(y_test, y_score_nn)\n",
    "roc_auc_nn = auc(fpr_nn, tpr_nn)\n",
    "print(\"ROC AUC:\", roc_auc_nn)"
   ]
  },
  {
   "cell_type": "code",
   "execution_count": null,
   "id": "856b82d0",
   "metadata": {
    "execution": {
     "iopub.execute_input": "2021-09-11T13:40:28.153863Z",
     "iopub.status.busy": "2021-09-11T13:40:28.153656Z",
     "iopub.status.idle": "2021-09-11T13:40:28.190736Z",
     "shell.execute_reply": "2021-09-11T13:40:28.189819Z",
     "shell.execute_reply.started": "2021-09-11T13:40:28.153839Z"
    },
    "papermill": {
     "duration": null,
     "end_time": null,
     "exception": null,
     "start_time": null,
     "status": "pending"
    },
    "tags": []
   },
   "outputs": [],
   "source": [
    "#precision_nn, recall_nn, thresholds_nn_2 = precision_recall_curve(y_test, y_score_nn)\n",
    "#pr_auc_nn = auc(precision_nn, recall_nn)\n",
    "#print(\"PR AUC:\", pr_auc_nn)"
   ]
  },
  {
   "cell_type": "markdown",
   "id": "3d16dcda",
   "metadata": {
    "papermill": {
     "duration": null,
     "end_time": null,
     "exception": null,
     "start_time": null,
     "status": "pending"
    },
    "tags": []
   },
   "source": [
    "## Plot ROC & Precision-Recall Curves"
   ]
  },
  {
   "cell_type": "code",
   "execution_count": null,
   "id": "bbd802c0",
   "metadata": {
    "execution": {
     "iopub.status.busy": "2021-09-11T13:40:28.191626Z",
     "iopub.status.idle": "2021-09-11T13:40:28.192455Z",
     "shell.execute_reply": "2021-09-11T13:40:28.192262Z",
     "shell.execute_reply.started": "2021-09-11T13:40:28.192223Z"
    },
    "papermill": {
     "duration": null,
     "end_time": null,
     "exception": null,
     "start_time": null,
     "status": "pending"
    },
    "tags": []
   },
   "outputs": [],
   "source": [
    "# Custom plot functions for Keras \n",
    "def plot_my_roc_curve(fpr, tpr): \n",
    "  plt.plot(fpr, tpr) \n",
    "  plt.axis([0,1,0,1]) \n",
    "  plt.xlabel('False Positive Rate') \n",
    "  plt.ylabel('True Positive Rate') \n",
    "  plt.show()\n",
    "\n",
    "def plot_my_pr_curve(precision, recall): \n",
    "  plt.plot(precision, recall) \n",
    "  plt.axis([0,1,0,1]) \n",
    "  plt.xlabel('Precision') \n",
    "  plt.ylabel('Recall') \n",
    "  plt.show()"
   ]
  },
  {
   "cell_type": "code",
   "execution_count": null,
   "id": "bf2b2757",
   "metadata": {
    "execution": {
     "iopub.status.busy": "2021-09-11T13:40:28.193338Z",
     "iopub.status.idle": "2021-09-11T13:40:28.193999Z",
     "shell.execute_reply": "2021-09-11T13:40:28.193815Z",
     "shell.execute_reply.started": "2021-09-11T13:40:28.193795Z"
    },
    "papermill": {
     "duration": null,
     "end_time": null,
     "exception": null,
     "start_time": null,
     "status": "pending"
    },
    "tags": []
   },
   "outputs": [],
   "source": [
    "plot_my_roc_curve (fpr_nn, tpr_nn) "
   ]
  },
  {
   "cell_type": "code",
   "execution_count": null,
   "id": "c8b19331",
   "metadata": {
    "execution": {
     "iopub.status.busy": "2021-09-11T13:40:28.195029Z",
     "iopub.status.idle": "2021-09-11T13:40:28.195741Z",
     "shell.execute_reply": "2021-09-11T13:40:28.195558Z",
     "shell.execute_reply.started": "2021-09-11T13:40:28.195533Z"
    },
    "papermill": {
     "duration": null,
     "end_time": null,
     "exception": null,
     "start_time": null,
     "status": "pending"
    },
    "tags": []
   },
   "outputs": [],
   "source": [
    "plot_my_pr_curve (precision_nn, recall_nn) "
   ]
  },
  {
   "cell_type": "code",
   "execution_count": null,
   "id": "a3cf3864",
   "metadata": {
    "execution": {
     "iopub.status.busy": "2021-09-11T13:40:28.196689Z",
     "iopub.status.idle": "2021-09-11T13:40:28.197062Z",
     "shell.execute_reply": "2021-09-11T13:40:28.196870Z",
     "shell.execute_reply.started": "2021-09-11T13:40:28.196849Z"
    },
    "papermill": {
     "duration": null,
     "end_time": null,
     "exception": null,
     "start_time": null,
     "status": "pending"
    },
    "tags": []
   },
   "outputs": [],
   "source": [
    "#fig = plot_roc_curve(nn_clf, X_test, y_test)  \n",
    "#plt.show() "
   ]
  },
  {
   "cell_type": "code",
   "execution_count": null,
   "id": "4090fade",
   "metadata": {
    "execution": {
     "iopub.status.busy": "2021-09-11T13:40:28.198029Z",
     "iopub.status.idle": "2021-09-11T13:40:28.198340Z",
     "shell.execute_reply": "2021-09-11T13:40:28.198196Z",
     "shell.execute_reply.started": "2021-09-11T13:40:28.198175Z"
    },
    "papermill": {
     "duration": null,
     "end_time": null,
     "exception": null,
     "start_time": null,
     "status": "pending"
    },
    "tags": []
   },
   "outputs": [],
   "source": [
    "#plot_precision_recall_curve(nn_clf, X_test, y_test)  \n",
    "#plt.show()"
   ]
  },
  {
   "cell_type": "markdown",
   "id": "4d496e72",
   "metadata": {
    "papermill": {
     "duration": null,
     "end_time": null,
     "exception": null,
     "start_time": null,
     "status": "pending"
    },
    "tags": []
   },
   "source": [
    "# Explainable Boosting Machine"
   ]
  },
  {
   "cell_type": "code",
   "execution_count": null,
   "id": "642013e7",
   "metadata": {
    "execution": {
     "iopub.status.busy": "2021-09-11T13:40:28.199114Z",
     "iopub.status.idle": "2021-09-11T13:40:28.199430Z",
     "shell.execute_reply": "2021-09-11T13:40:28.199278Z",
     "shell.execute_reply.started": "2021-09-11T13:40:28.199257Z"
    },
    "papermill": {
     "duration": null,
     "end_time": null,
     "exception": null,
     "start_time": null,
     "status": "pending"
    },
    "tags": []
   },
   "outputs": [],
   "source": [
    "!pip install interpret -q"
   ]
  },
  {
   "cell_type": "code",
   "execution_count": null,
   "id": "72657390",
   "metadata": {
    "execution": {
     "iopub.status.busy": "2021-09-11T13:40:28.201441Z",
     "iopub.status.idle": "2021-09-11T13:40:28.201802Z",
     "shell.execute_reply": "2021-09-11T13:40:28.201650Z",
     "shell.execute_reply.started": "2021-09-11T13:40:28.201628Z"
    },
    "papermill": {
     "duration": null,
     "end_time": null,
     "exception": null,
     "start_time": null,
     "status": "pending"
    },
    "tags": []
   },
   "outputs": [],
   "source": [
    "from interpret import set_visualize_provider\n",
    "from interpret.provider import InlineProvider\n",
    "set_visualize_provider(InlineProvider())"
   ]
  },
  {
   "cell_type": "markdown",
   "id": "54d982d6",
   "metadata": {
    "papermill": {
     "duration": null,
     "end_time": null,
     "exception": null,
     "start_time": null,
     "status": "pending"
    },
    "tags": []
   },
   "source": [
    "## Train Explainable Boosting Classifier"
   ]
  },
  {
   "cell_type": "code",
   "execution_count": null,
   "id": "b98260bf",
   "metadata": {
    "execution": {
     "iopub.status.busy": "2021-09-11T13:40:28.203158Z",
     "iopub.status.idle": "2021-09-11T13:40:28.203480Z",
     "shell.execute_reply": "2021-09-11T13:40:28.203330Z",
     "shell.execute_reply.started": "2021-09-11T13:40:28.203308Z"
    },
    "papermill": {
     "duration": null,
     "end_time": null,
     "exception": null,
     "start_time": null,
     "status": "pending"
    },
    "tags": []
   },
   "outputs": [],
   "source": [
    "from interpret.glassbox import ExplainableBoostingClassifier\n",
    "from interpret import show\n",
    "\n",
    "ebm = ExplainableBoostingClassifier(random_state=1)\n",
    "ebm.fit(X_train, y_train)"
   ]
  },
  {
   "cell_type": "markdown",
   "id": "cd07c6ef",
   "metadata": {
    "papermill": {
     "duration": null,
     "end_time": null,
     "exception": null,
     "start_time": null,
     "status": "pending"
    },
    "tags": []
   },
   "source": [
    "## EBM AUC"
   ]
  },
  {
   "cell_type": "code",
   "execution_count": null,
   "id": "eb753567",
   "metadata": {
    "execution": {
     "iopub.status.busy": "2021-09-11T13:40:28.204190Z",
     "iopub.status.idle": "2021-09-11T13:40:28.204501Z",
     "shell.execute_reply": "2021-09-11T13:40:28.204354Z",
     "shell.execute_reply.started": "2021-09-11T13:40:28.204332Z"
    },
    "papermill": {
     "duration": null,
     "end_time": null,
     "exception": null,
     "start_time": null,
     "status": "pending"
    },
    "tags": []
   },
   "outputs": [],
   "source": [
    "#y_test_prob_ebm = ebm.predict_proba(X_test)\n",
    "y_score_ebm = ebm.predict(X_test).ravel()\n",
    "\n",
    "fpr_ebm, tpr_ebm, thresholds_ebm = roc_curve(y_test, y_score_ebm)\n",
    "roc_auc_ebm = auc(fpr_ebm, tpr_ebm)\n",
    "print(\"ROC AUC:\", roc_auc_ebm)"
   ]
  },
  {
   "cell_type": "code",
   "execution_count": null,
   "id": "e282248d",
   "metadata": {
    "execution": {
     "iopub.status.busy": "2021-09-11T13:40:28.206253Z",
     "iopub.status.idle": "2021-09-11T13:40:28.207011Z",
     "shell.execute_reply": "2021-09-11T13:40:28.206604Z",
     "shell.execute_reply.started": "2021-09-11T13:40:28.206544Z"
    },
    "papermill": {
     "duration": null,
     "end_time": null,
     "exception": null,
     "start_time": null,
     "status": "pending"
    },
    "tags": []
   },
   "outputs": [],
   "source": [
    "precision_ebm, recall_ebm, thresholds1_ebm = precision_recall_curve(y_test, y_score_ebm)\n",
    "pr_auc_ebm = auc(precision_ebm, recall_ebm)\n",
    "print(\"PR AUC:\", pr_auc_ebm)"
   ]
  },
  {
   "cell_type": "markdown",
   "id": "b7c96463",
   "metadata": {
    "papermill": {
     "duration": null,
     "end_time": null,
     "exception": null,
     "start_time": null,
     "status": "pending"
    },
    "tags": []
   },
   "source": [
    "## Plot ROC Curve"
   ]
  },
  {
   "cell_type": "code",
   "execution_count": null,
   "id": "5a9e4c02",
   "metadata": {
    "execution": {
     "iopub.status.busy": "2021-09-11T13:40:28.208985Z",
     "iopub.status.idle": "2021-09-11T13:40:28.209792Z",
     "shell.execute_reply": "2021-09-11T13:40:28.209404Z",
     "shell.execute_reply.started": "2021-09-11T13:40:28.209345Z"
    },
    "papermill": {
     "duration": null,
     "end_time": null,
     "exception": null,
     "start_time": null,
     "status": "pending"
    },
    "tags": []
   },
   "outputs": [],
   "source": [
    "plot_my_roc_curve (fpr_ebm, tpr_ebm) "
   ]
  },
  {
   "cell_type": "code",
   "execution_count": null,
   "id": "161213e5",
   "metadata": {
    "execution": {
     "iopub.status.busy": "2021-09-11T13:40:28.211544Z",
     "iopub.status.idle": "2021-09-11T13:40:28.212023Z",
     "shell.execute_reply": "2021-09-11T13:40:28.211784Z",
     "shell.execute_reply.started": "2021-09-11T13:40:28.211761Z"
    },
    "papermill": {
     "duration": null,
     "end_time": null,
     "exception": null,
     "start_time": null,
     "status": "pending"
    },
    "tags": []
   },
   "outputs": [],
   "source": [
    "fig = plot_roc_curve(ebm, X_test, y_test)  \n",
    "plt.show() "
   ]
  },
  {
   "cell_type": "markdown",
   "id": "eb038a64",
   "metadata": {
    "papermill": {
     "duration": null,
     "end_time": null,
     "exception": null,
     "start_time": null,
     "status": "pending"
    },
    "tags": []
   },
   "source": [
    "## Plot PR Curve"
   ]
  },
  {
   "cell_type": "code",
   "execution_count": null,
   "id": "e22583dc",
   "metadata": {
    "execution": {
     "iopub.status.busy": "2021-09-11T13:40:28.213218Z",
     "iopub.status.idle": "2021-09-11T13:40:28.213741Z",
     "shell.execute_reply": "2021-09-11T13:40:28.213453Z",
     "shell.execute_reply.started": "2021-09-11T13:40:28.213430Z"
    },
    "papermill": {
     "duration": null,
     "end_time": null,
     "exception": null,
     "start_time": null,
     "status": "pending"
    },
    "tags": []
   },
   "outputs": [],
   "source": [
    "plot_precision_recall_curve(ebm, X_test, y_test)  \n",
    "plt.show()"
   ]
  },
  {
   "cell_type": "markdown",
   "id": "dc658648",
   "metadata": {
    "papermill": {
     "duration": null,
     "end_time": null,
     "exception": null,
     "start_time": null,
     "status": "pending"
    },
    "tags": []
   },
   "source": [
    "## Plot Feature Global & Local Feature Attributions"
   ]
  },
  {
   "cell_type": "code",
   "execution_count": null,
   "id": "302087cc",
   "metadata": {
    "execution": {
     "iopub.status.busy": "2021-09-11T13:40:28.215012Z",
     "iopub.status.idle": "2021-09-11T13:40:28.215480Z",
     "shell.execute_reply": "2021-09-11T13:40:28.215255Z",
     "shell.execute_reply.started": "2021-09-11T13:40:28.215231Z"
    },
    "papermill": {
     "duration": null,
     "end_time": null,
     "exception": null,
     "start_time": null,
     "status": "pending"
    },
    "tags": []
   },
   "outputs": [],
   "source": [
    "ebm_global = ebm.explain_global()\n",
    "show(ebm_global)"
   ]
  },
  {
   "cell_type": "code",
   "execution_count": null,
   "id": "3d156937",
   "metadata": {
    "execution": {
     "iopub.status.busy": "2021-09-11T13:40:28.217013Z",
     "iopub.status.idle": "2021-09-11T13:40:28.217497Z",
     "shell.execute_reply": "2021-09-11T13:40:28.217263Z",
     "shell.execute_reply.started": "2021-09-11T13:40:28.217240Z"
    },
    "papermill": {
     "duration": null,
     "end_time": null,
     "exception": null,
     "start_time": null,
     "status": "pending"
    },
    "tags": []
   },
   "outputs": [],
   "source": [
    "ebm_local = ebm.explain_local(X_test[:5], y_test[:5])\n",
    "show(ebm_local)"
   ]
  }
 ],
 "metadata": {
  "kernelspec": {
   "display_name": "Python 3",
   "language": "python",
   "name": "python3"
  },
  "language_info": {
   "codemirror_mode": {
    "name": "ipython",
    "version": 3
   },
   "file_extension": ".py",
   "mimetype": "text/x-python",
   "name": "python",
   "nbconvert_exporter": "python",
   "pygments_lexer": "ipython3",
   "version": "3.7.10"
  },
  "papermill": {
   "default_parameters": {},
   "duration": 43.853482,
   "end_time": "2021-09-11T14:17:20.000169",
   "environment_variables": {},
   "exception": true,
   "input_path": "__notebook__.ipynb",
   "output_path": "__notebook__.ipynb",
   "parameters": {},
   "start_time": "2021-09-11T14:16:36.146687",
   "version": "2.3.3"
  }
 },
 "nbformat": 4,
 "nbformat_minor": 5
}
